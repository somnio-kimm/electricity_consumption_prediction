{
 "cells": [
  {
   "cell_type": "code",
   "execution_count": null,
   "metadata": {},
   "outputs": [],
   "source": []
  },
  {
   "cell_type": "code",
   "execution_count": 30,
   "metadata": {},
   "outputs": [],
   "source": [
    "# Department: ESTSOFT\n",
    "# Class: AI Modelling\n",
    "# Category: Machine learning\n",
    "# Title: Electricity consumption prediction\n",
    "# Contributors: \n",
    "# Last modified date: 31/03/25"
   ]
  },
  {
   "cell_type": "markdown",
   "metadata": {},
   "source": [
    "### **Library**"
   ]
  },
  {
   "cell_type": "code",
   "execution_count": 31,
   "metadata": {},
   "outputs": [],
   "source": [
    "# Library\n",
    "# Time\n",
    "from timeit import default_timer as timer\n",
    "import time\n",
    "from tqdm.auto import tqdm\n",
    "\n",
    "# File\n",
    "import os\n",
    "import requests\n",
    "import zipfile\n",
    "from pathlib import Path\n",
    "from PIL import Image\n",
    "import random\n",
    "import chardet\n",
    "\n",
    "# Numerical & Data Handling\n",
    "import numpy as np\n",
    "import pandas as pd\n",
    "import scipy as sp\n",
    "import math\n",
    "\n",
    "# Visualization\n",
    "import seaborn as sns\n",
    "from matplotlib import pyplot as plt\n",
    "from matplotlib.lines import Line2D\n",
    "%matplotlib inline\n",
    "from sklearn.tree import plot_tree\n",
    "from scipy.optimize import curve_fit\n",
    "\n",
    "# Machine Learning Libraries\n",
    "from sklearn.datasets import make_classification\n",
    "from sklearn.model_selection import train_test_split, GridSearchCV, RandomizedSearchCV, cross_val_score\n",
    "from sklearn.tree import DecisionTreeClassifier\n",
    "from sklearn.ensemble import (RandomForestClassifier, RandomForestRegressor, \n",
    "\t\t\t\t\t\t\t  ExtraTreesClassifier, ExtraTreesRegressor, \n",
    "\t\t\t\t\t\t\t  BaggingClassifier, BaggingRegressor, \n",
    "\t\t\t\t\t\t\t  GradientBoostingClassifier, GradientBoostingRegressor, \n",
    "\t\t\t\t\t\t\t  AdaBoostClassifier, AdaBoostRegressor, \n",
    "\t\t\t\t\t\t\t  VotingClassifier, VotingRegressor,\n",
    "\t\t\t\t\t\t\t  StackingClassifier, StackingRegressor)\n",
    "from sklearn.linear_model import LinearRegression, LogisticRegression\n",
    "from sklearn.neighbors import KNeighborsClassifier, KNeighborsRegressor\n",
    "from sklearn.svm import SVC, SVR\n",
    "from sklearn.multiclass import OneVsRestClassifier\n",
    "from sklearn.cluster import KMeans\n",
    "from sklearn.naive_bayes import GaussianNB\n",
    "from mlxtend.frequent_patterns import apriori, association_rules\n",
    "import xgboost as xgb\n",
    "\n",
    "# Neural Network Libraries\n",
    "import torch\n",
    "from torch import nn as nn\n",
    "from torch.nn import functional as F\n",
    "from torch.utils.data import DataLoader, Dataset, random_split\n",
    "import torchvision\n",
    "from torchvision import datasets, transforms, models\n",
    "from torchvision.transforms import ToTensor\n",
    "import huggingface\n",
    "import keras\n",
    "import tensorflow\n",
    "from transformers import pipeline\n",
    "\n",
    "# Feature Engineering\n",
    "from sklearn.preprocessing import (StandardScaler, RobustScaler, MinMaxScaler, MaxAbsScaler, Normalizer, \n",
    "\t\t\t\t\t\t\t\t   LabelEncoder, OneHotEncoder, OrdinalEncoder, LabelBinarizer)\n",
    "from sklearn.feature_selection import SelectKBest, chi2, f_classif, mutual_info_classif, RFE, SequentialFeatureSelector, VarianceThreshold\n",
    "from sklearn.compose import ColumnTransformer\n",
    "from sklearn.pipeline import Pipeline\n",
    "from sklearn.impute import SimpleImputer\n",
    "from mlxtend.preprocessing import TransactionEncoder\n",
    "\n",
    "# Dimensionality Reduction\n",
    "from sklearn.decomposition import PCA, KernelPCA\n",
    "from sklearn.discriminant_analysis import LinearDiscriminantAnalysis as LDA\n",
    "from sklearn.manifold import TSNE\n",
    "\n",
    "# Hyperparameter Tuning with Bayesian Optimization\n",
    "from hyperopt import hp, tpe, fmin, Trials\n",
    "\n",
    "# Evaluation\n",
    "from sklearn.metrics import (classification_report, pairwise_distances, silhouette_score, \n",
    "\t\t\t\t\t\t\t roc_curve, auc, roc_auc_score, RocCurveDisplay, \n",
    "\t\t\t\t\t\t\t confusion_matrix, ConfusionMatrixDisplay, \n",
    "\t\t\t\t\t\t\t accuracy_score, recall_score, precision_score, f1_score,\n",
    "\t\t\t\t\t\t\t log_loss, hinge_loss, mean_absolute_error, mean_squared_error)\n",
    "from torchmetrics import Accuracy, Precision, Recall, F1Score, AUROC, ConfusionMatrix, MeanSquaredError, MeanAbsoluteError, R2Score, MetricCollection\n",
    "import statsmodels.api as sm\n",
    "\n"
   ]
  },
  {
   "cell_type": "markdown",
   "metadata": {},
   "source": [
    "### **Data Preparation**"
   ]
  },
  {
   "cell_type": "markdown",
   "metadata": {},
   "source": [
    "**Data source**"
   ]
  },
  {
   "cell_type": "markdown",
   "metadata": {},
   "source": [
    "**Electricity consumption**\n",
    "- 840 samples in total\n",
    "- Jan 2015 to Dec 2024\n",
    "- 7 different locations: Seoul, Incheon, Daejeon, Daegu, Ulsan, Gwangju, Busan\n",
    "- 9 Features\n",
    "\t- Year\n",
    "\t- Month\n",
    "\t- Province\n",
    "\t- Number of Households\n",
    "\t- Avg Power Consumption per Household (kWh)\n",
    "\t- Avg Electricity Bill per Household (KRW)\n",
    "\t- Number of Tropical Nights\n",
    "\t- Number of Heatwave Days\n",
    "\t- Number of Coldwave Days"
   ]
  },
  {
   "cell_type": "code",
   "execution_count": 32,
   "metadata": {},
   "outputs": [
    {
     "name": "stdout",
     "output_type": "stream",
     "text": [
      "<class 'pandas.core.frame.DataFrame'>\n",
      "RangeIndex: 840 entries, 0 to 839\n",
      "Data columns (total 9 columns):\n",
      " #   Column                                     Non-Null Count  Dtype \n",
      "---  ------                                     --------------  ----- \n",
      " 0   Year                                       840 non-null    int64 \n",
      " 1   Month                                      840 non-null    int64 \n",
      " 2   Province                                   840 non-null    object\n",
      " 3   Number of Households                       840 non-null    int64 \n",
      " 4   Avg Power Consumption per Household (kWh)  840 non-null    int64 \n",
      " 5   Avg Electricity Btill per Household (KRW)  840 non-null    int64 \n",
      " 6   Number of Tropical Nights                  840 non-null    int64 \n",
      " 7   Number of Heatwave Days                    840 non-null    int64 \n",
      " 8   Number of Coldwave Days                    840 non-null    int64 \n",
      "dtypes: int64(8), object(1)\n",
      "memory usage: 59.2+ KB\n"
     ]
    }
   ],
   "source": [
    "# Load electricity consumption data\n",
    "df_electricity = pd.read_csv('data/electricity_consumption_eng.csv', encoding='utf-8')\n",
    "df_electricity.info()"
   ]
  },
  {
   "cell_type": "markdown",
   "metadata": {},
   "source": [
    "**Weather forecast**\n",
    "- 861 samples in total\n",
    "- Jan 2015 to Feb 2025\n",
    "- 7 different locations: Seoul, Incheon, Daejeon, Daegu, Ulsan, Gwangju, Busan\n",
    "- 21 Features\n",
    "\t- Station Name                  \n",
    "\t- Year                            \n",
    "\t- Month                          \n",
    "\t- Avg Temperature (Celsius)      \n",
    "\t- Avg Max Temperature (Celsius) \n",
    "\t- Avg Min Temperature (Celsius) \n",
    "\t- Avg Local Pressure (hPa)      \n",
    "\t- Avg Sea Level Pressure (hPa)  \n",
    "\t- Avg Vapor Pressure (hPa)      \n",
    "\t- Avg Dew Point Temp (Celsius)  \n",
    "\t- Avg Relative Humidity (%)     \n",
    "\t- Monthly Precipitation (mm)    \n",
    "\t- Small Pan Evaporation (mm)    \n",
    "\t- Avg Wind Speed (m/s)          \n",
    "\t- Max Wind Speed (m/s)          \n",
    "\t- Avg Cloud Cover (1/10)        \n",
    "\t- Total Sunshine Hours (hr)     \n",
    "\t- Sunshine Rate (%)             \n",
    "\t- Total Solar Radiation (MJ/m^2)\n",
    "\t- Avg Min Surface Temp (Celsius)\n",
    "\t- Avg Ground Temp (Celsius) "
   ]
  },
  {
   "cell_type": "code",
   "execution_count": 33,
   "metadata": {},
   "outputs": [
    {
     "name": "stdout",
     "output_type": "stream",
     "text": [
      "<class 'pandas.core.frame.DataFrame'>\n",
      "RangeIndex: 861 entries, 0 to 860\n",
      "Data columns (total 21 columns):\n",
      " #   Column                          Non-Null Count  Dtype  \n",
      "---  ------                          --------------  -----  \n",
      " 0   Station Name                    861 non-null    object \n",
      " 1   Year                            861 non-null    int64  \n",
      " 2   Month                           861 non-null    int64  \n",
      " 3   Avg Temperature (Celsius        861 non-null    float64\n",
      " 4   Avg Max Temperature (Celsius)   861 non-null    float64\n",
      " 5   Avg Min Temperature (Celsius)   861 non-null    float64\n",
      " 6   Avg Local Pressure (hPa)        861 non-null    float64\n",
      " 7   Avg Sea Level Pressure (hPa)    861 non-null    float64\n",
      " 8   Avg Vapor Pressure (hPa)        861 non-null    float64\n",
      " 9   Avg Dew Point Temp (Celsius)    861 non-null    float64\n",
      " 10  Avg Relative Humidity (%)       861 non-null    int64  \n",
      " 11  Monthly Precipitation (mm)      861 non-null    float64\n",
      " 12  Small Pan Evaporation (mm)      728 non-null    float64\n",
      " 13  Avg Wind Speed (m/s)            861 non-null    float64\n",
      " 14  Max Wind Speed (m/s)            861 non-null    float64\n",
      " 15  Avg Cloud Cover (1/10)          855 non-null    float64\n",
      " 16  Total Sunshine Hours (hr)       861 non-null    float64\n",
      " 17  Sunshine Rate (%)               861 non-null    float64\n",
      " 18  Total Solar Radiation (MJ/m^2)  764 non-null    float64\n",
      " 19  Avg Min Surface Temp (Celsius)  861 non-null    float64\n",
      " 20  Avg Ground Temp (Celsius)       861 non-null    float64\n",
      "dtypes: float64(17), int64(3), object(1)\n",
      "memory usage: 141.4+ KB\n"
     ]
    }
   ],
   "source": [
    "# Load weather forecast data\n",
    "df_weather = pd.read_csv('data/weather_forecast_eng.csv', encoding='utf-8')\n",
    "df_weather.info()"
   ]
  },
  {
   "cell_type": "code",
   "execution_count": 34,
   "metadata": {},
   "outputs": [
    {
     "name": "stdout",
     "output_type": "stream",
     "text": [
      "Station Name                        0\n",
      "Year                                0\n",
      "Month                               0\n",
      "Avg Temperature (Celsius            0\n",
      "Avg Max Temperature (Celsius)       0\n",
      "Avg Min Temperature (Celsius)       0\n",
      "Avg Local Pressure (hPa)            0\n",
      "Avg Sea Level Pressure (hPa)        0\n",
      "Avg Vapor Pressure (hPa)            0\n",
      "Avg Dew Point Temp (Celsius)        0\n",
      "Avg Relative Humidity (%)           0\n",
      "Monthly Precipitation (mm)          0\n",
      "Small Pan Evaporation (mm)        133\n",
      "Avg Wind Speed (m/s)                0\n",
      "Max Wind Speed (m/s)                0\n",
      "Avg Cloud Cover (1/10)              6\n",
      "Total Sunshine Hours (hr)           0\n",
      "Sunshine Rate (%)                   0\n",
      "Total Solar Radiation (MJ/m^2)     97\n",
      "Avg Min Surface Temp (Celsius)      0\n",
      "Avg Ground Temp (Celsius)           0\n",
      "dtype: int64\n"
     ]
    }
   ],
   "source": [
    "# Check missing values\n",
    "print(df_weather.isnull().sum())"
   ]
  },
  {
   "cell_type": "code",
   "execution_count": 35,
   "metadata": {},
   "outputs": [],
   "source": [
    "# Handle missing values w/ ffill\n",
    "df_weather.ffill(inplace=True)"
   ]
  },
  {
   "cell_type": "code",
   "execution_count": 36,
   "metadata": {},
   "outputs": [
    {
     "name": "stdout",
     "output_type": "stream",
     "text": [
      "Station Name                      0\n",
      "Year                              0\n",
      "Month                             0\n",
      "Avg Temperature (Celsius          0\n",
      "Avg Max Temperature (Celsius)     0\n",
      "Avg Min Temperature (Celsius)     0\n",
      "Avg Local Pressure (hPa)          0\n",
      "Avg Sea Level Pressure (hPa)      0\n",
      "Avg Vapor Pressure (hPa)          0\n",
      "Avg Dew Point Temp (Celsius)      0\n",
      "Avg Relative Humidity (%)         0\n",
      "Monthly Precipitation (mm)        0\n",
      "Small Pan Evaporation (mm)        0\n",
      "Avg Wind Speed (m/s)              0\n",
      "Max Wind Speed (m/s)              0\n",
      "Avg Cloud Cover (1/10)            0\n",
      "Total Sunshine Hours (hr)         0\n",
      "Sunshine Rate (%)                 0\n",
      "Total Solar Radiation (MJ/m^2)    0\n",
      "Avg Min Surface Temp (Celsius)    0\n",
      "Avg Ground Temp (Celsius)         0\n",
      "dtype: int64\n"
     ]
    }
   ],
   "source": [
    "# Re-check missing values\n",
    "print(df_weather.isnull().sum())"
   ]
  },
  {
   "cell_type": "code",
   "execution_count": 37,
   "metadata": {},
   "outputs": [],
   "source": [
    "# Create Date column using Year and Month columns\n",
    "df_electricity['Date'] = pd.to_datetime(arg=dict(year=df_electricity['Year'], month=df_electricity['Month'], day=1))\n",
    "df_weather['Date'] = pd.to_datetime(arg=dict(year=df_weather['Year'], month=df_weather['Month'], day=1))\n",
    "\n",
    "# Drop Year and Month columns\n",
    "df_electricity = df_electricity.drop(columns=['Year', 'Month'])\n",
    "df_weather = df_weather.drop(columns=['Year', 'Month'])\n",
    "\n",
    "# Rename Station Name and Province to Location\n",
    "df_electricity = df_electricity.rename(columns={'Province': 'Location'})\n",
    "df_weather = df_weather.rename(columns={'Station Name': 'Location'})\n",
    "\n",
    "# Merge df_weather and df_electricity based on the date\n",
    "df_merged = pd.merge(df_electricity, df_weather, on=['Date', 'Location'], how='inner')\n",
    "df_merged = df_merged[['Date'] + [col for col in df_merged.columns if col != 'Date']]\n",
    "df_merged.to_csv('data/merged_data.csv', index=False, encoding='utf-8')"
   ]
  },
  {
   "cell_type": "code",
   "execution_count": 39,
   "metadata": {},
   "outputs": [
    {
     "name": "stdout",
     "output_type": "stream",
     "text": [
      "<class 'pandas.core.frame.DataFrame'>\n",
      "RangeIndex: 840 entries, 0 to 839\n",
      "Data columns (total 26 columns):\n",
      " #   Column                                     Non-Null Count  Dtype         \n",
      "---  ------                                     --------------  -----         \n",
      " 0   Date                                       840 non-null    datetime64[ns]\n",
      " 1   Location                                   840 non-null    object        \n",
      " 2   Number of Households                       840 non-null    int64         \n",
      " 3   Avg Power Consumption per Household (kWh)  840 non-null    int64         \n",
      " 4   Avg Electricity Btill per Household (KRW)  840 non-null    int64         \n",
      " 5   Number of Tropical Nights                  840 non-null    int64         \n",
      " 6   Number of Heatwave Days                    840 non-null    int64         \n",
      " 7   Number of Coldwave Days                    840 non-null    int64         \n",
      " 8   Avg Temperature (Celsius                   840 non-null    float64       \n",
      " 9   Avg Max Temperature (Celsius)              840 non-null    float64       \n",
      " 10  Avg Min Temperature (Celsius)              840 non-null    float64       \n",
      " 11  Avg Local Pressure (hPa)                   840 non-null    float64       \n",
      " 12  Avg Sea Level Pressure (hPa)               840 non-null    float64       \n",
      " 13  Avg Vapor Pressure (hPa)                   840 non-null    float64       \n",
      " 14  Avg Dew Point Temp (Celsius)               840 non-null    float64       \n",
      " 15  Avg Relative Humidity (%)                  840 non-null    int64         \n",
      " 16  Monthly Precipitation (mm)                 840 non-null    float64       \n",
      " 17  Small Pan Evaporation (mm)                 840 non-null    float64       \n",
      " 18  Avg Wind Speed (m/s)                       840 non-null    float64       \n",
      " 19  Max Wind Speed (m/s)                       840 non-null    float64       \n",
      " 20  Avg Cloud Cover (1/10)                     840 non-null    float64       \n",
      " 21  Total Sunshine Hours (hr)                  840 non-null    float64       \n",
      " 22  Sunshine Rate (%)                          840 non-null    float64       \n",
      " 23  Total Solar Radiation (MJ/m^2)             840 non-null    float64       \n",
      " 24  Avg Min Surface Temp (Celsius)             840 non-null    float64       \n",
      " 25  Avg Ground Temp (Celsius)                  840 non-null    float64       \n",
      "dtypes: datetime64[ns](1), float64(17), int64(7), object(1)\n",
      "memory usage: 170.8+ KB\n"
     ]
    }
   ],
   "source": [
    "df_merged.info()"
   ]
  },
  {
   "cell_type": "markdown",
   "metadata": {},
   "source": [
    "### **Data Preprocessing**"
   ]
  },
  {
   "cell_type": "markdown",
   "metadata": {},
   "source": []
  },
  {
   "cell_type": "markdown",
   "metadata": {},
   "source": [
    "### **Visualisation**"
   ]
  },
  {
   "cell_type": "markdown",
   "metadata": {},
   "source": []
  },
  {
   "cell_type": "markdown",
   "metadata": {},
   "source": []
  },
  {
   "cell_type": "code",
   "execution_count": null,
   "metadata": {},
   "outputs": [],
   "source": []
  }
 ],
 "metadata": {
  "kernelspec": {
   "display_name": "venv_3.11",
   "language": "python",
   "name": "python3"
  },
  "language_info": {
   "codemirror_mode": {
    "name": "ipython",
    "version": 3
   },
   "file_extension": ".py",
   "mimetype": "text/x-python",
   "name": "python",
   "nbconvert_exporter": "python",
   "pygments_lexer": "ipython3",
   "version": "3.11.11"
  }
 },
 "nbformat": 4,
 "nbformat_minor": 2
}
