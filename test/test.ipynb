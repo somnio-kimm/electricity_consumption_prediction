{
 "cells": [
  {
   "cell_type": "code",
   "execution_count": null,
   "metadata": {},
   "outputs": [],
   "source": [
    "# Monthly average electricity consumption + temperture\n",
    "\n",
    "avg_t_mean = df.groupby('Month')['Avg Temperature (Celsius)'].mean()\n",
    "avg_pc_mean = df.groupby('Month')['Avg Electricity Consumption per Household (kWh)'].mean()\n",
    "\n",
    "fig = plt.figure(figsize=(20,10))\n",
    "fig.set_facecolor('white') \n",
    "ax = fig.add_subplot()\n",
    " \n",
    "ax.bar(avg_t_mean.index, avg_t_mean , label='Avg Temperature (Celsius)')\n",
    "ax.set_ylabel('Avg Temperature (Celsius)', fontsize=14, color='black') \n",
    "ax.set_xlabel('Month', fontsize=14, color='black')\n",
    " \n",
    "ax2 = ax.twinx()\n",
    "ax2.set_ylabel('Avg Electricity Consumption per Household (kWh)', fontsize=14, color='red')\n",
    "ax2.plot(avg_pc_mean.index ,avg_pc_mean, label='Avg Electricity Consumption per Household (kWh)',color='red', linewidth = 5)\n",
    "\n",
    "plt.xticks(np.arange(0,13,1),rotation=0)\n",
    "plt.title('Avg Temperature & Avg Electricity Consumption per Household (kWh)',fontsize=20)\n",
    "plt.legend(loc = 2, fontsize=20, frameon=True, shadow=True)\n",
    "\n",
    "plt.show()"
   ]
  },
  {
   "cell_type": "code",
   "execution_count": null,
   "metadata": {},
   "outputs": [],
   "source": [
    "# # #Year per: 84 Month per: 70 Region per: 140 Total data:840\n",
    "# \n",
    "# monthly_data = df.groupby('Region')['Avg Electricity Consumption per Household (kWh) Household (kWh)'].mean( ).reset_index()\n",
    "# df_mean=df.groupby(['YeaAvg Electricity Consumption per Household (kWh)r Househol# d (kWh)']).mean()\n",
    "# unstacked_df = df_mean.unst# ack(level='Year')\n",
    "# fig, ax_1 = plt.subplot# s(figsize=(12, 8))\n",
    "# ax_1.set# _xlabel('Region')\n",
    "# ax_1.set_xticks# (monthly_data.indAvg Electricity Consumption per Household (kWh)on # per Household (kWh)')\n",
    "# ax_1.plot(monthly_data['LocAvg Electricity Consumption per Household (kWh)'on per Household (kWh)'], color='orange',mark# er='o', ms=4,alpha=1)\n",
    "\n",
    "# ax_1.tick_params(axis='# y', labelcolor='orange')\n",
    "# ### #####\n",
    "# ax_2 = ax_Small Pan Evaporation (mm)('S# mall Pan Evaporation (mm)')\n",
    "# unstacked_df.plot(k# ind='bar',ax=ax_2,alpha=0.5)\n",
    "# ax_2.tick_params(# axis='y', labelcolor='blue')\n",
    "\n",
    "# plt.title(f'Avg Electricity Consumption per Household#  (kWh) from#  Region,Region'# )\n",
    "# plt.grid()\n",
    "# plt.tight_layout()\n",
    "# for x_val,y_val in zip(monthly_data['Region'],monthly_data['Avg Electricity C# onsumption per Household (kWh)']):\n",
    "# \tax_1.text(x_val, y_val +0.1,f'{y_val:.2f}',ha='center',va='bottom'# ,fontsize=9,color='black',zorde# r=5)\n",
    "# plt.subplots_adjust(right=1.8)\n",
    "# plt.show()"
   ]
  }
 ],
 "metadata": {
  "language_info": {
   "name": "python"
  }
 },
 "nbformat": 4,
 "nbformat_minor": 5
}
