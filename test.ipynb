{
 "cells": [
  {
   "cell_type": "code",
   "execution_count": null,
   "metadata": {},
   "outputs": [
    {
     "name": "stderr",
     "output_type": "stream",
     "text": [
      "/opt/homebrew/anaconda3/envs/venv_3.11/lib/python3.11/site-packages/tqdm/auto.py:21: TqdmWarning: IProgress not found. Please update jupyter and ipywidgets. See https://ipywidgets.readthedocs.io/en/stable/user_install.html\n",
      "  from .autonotebook import tqdm as notebook_tqdm\n",
      "/opt/homebrew/anaconda3/envs/venv_3.11/lib/python3.11/site-packages/torchvision/io/image.py:14: UserWarning: Failed to load image Python extension: 'dlopen(/opt/homebrew/anaconda3/envs/venv_3.11/lib/python3.11/site-packages/torchvision/image.so, 0x0006): Library not loaded: @rpath/libjpeg.9.dylib\n",
      "  Referenced from: <EB3FF92A-5EB1-3EE8-AF8B-5923C1265422> /opt/homebrew/anaconda3/envs/venv_3.11/lib/python3.11/site-packages/torchvision/image.so\n",
      "  Reason: tried: '/opt/homebrew/anaconda3/envs/venv_3.11/lib/python3.11/site-packages/torchvision/../../../libjpeg.9.dylib' (no such file), '/opt/homebrew/anaconda3/envs/venv_3.11/lib/python3.11/site-packages/torchvision/../../../libjpeg.9.dylib' (no such file), '/opt/homebrew/anaconda3/envs/venv_3.11/lib/python3.11/lib-dynload/../../libjpeg.9.dylib' (no such file), '/opt/homebrew/anaconda3/envs/venv_3.11/bin/../lib/libjpeg.9.dylib' (no such file)'If you don't plan on using image functionality from `torchvision.io`, you can ignore this warning. Otherwise, there might be something wrong with your environment. Did you have `libjpeg` or `libpng` installed before building `torchvision` from source?\n",
      "  warn(\n",
      "/opt/homebrew/anaconda3/envs/venv_3.11/lib/python3.11/site-packages/hyperopt/atpe.py:19: DeprecationWarning: pkg_resources is deprecated as an API. See https://setuptools.pypa.io/en/latest/pkg_resources.html\n",
      "  import pkg_resources\n"
     ]
    }
   ],
   "source": [
    "# Library\n",
    "# Time\n",
    "from timeit import default_timer as timer\n",
    "import time\n",
    "from tqdm.auto import tqdm\n",
    "\n",
    "# File\n",
    "import os\n",
    "import requests\n",
    "import zipfile\n",
    "from pathlib import Path\n",
    "from PIL import Image\n",
    "import random\n",
    "import chardet\n",
    "\n",
    "# Numerical & Data Handling\n",
    "import numpy as np\n",
    "import pandas as pd\n",
    "import scipy as sp\n",
    "import math\n",
    "\n",
    "# Visualization\n",
    "import seaborn as sns\n",
    "from matplotlib import pyplot as plt\n",
    "from matplotlib.lines import Line2D\n",
    "%matplotlib inline\n",
    "from sklearn.tree import plot_tree\n",
    "from scipy.optimize import curve_fit\n",
    "\n",
    "# Machine Learning Libraries\n",
    "from sklearn.datasets import make_classification\n",
    "from sklearn.model_selection import train_test_split, GridSearchCV, RandomizedSearchCV, cross_val_score\n",
    "from sklearn.tree import DecisionTreeClassifier,DecisionTreeRegressor\n",
    "from sklearn.ensemble import (RandomForestClassifier, RandomForestRegressor, \n",
    "\t\t\t\t\t\t\t  ExtraTreesClassifier, ExtraTreesRegressor, \n",
    "\t\t\t\t\t\t\t  BaggingClassifier, BaggingRegressor, \n",
    "\t\t\t\t\t\t\t  GradientBoostingClassifier, GradientBoostingRegressor, \n",
    "\t\t\t\t\t\t\t  AdaBoostClassifier, AdaBoostRegressor, \n",
    "\t\t\t\t\t\t\t  VotingClassifier, VotingRegressor,\n",
    "\t\t\t\t\t\t\t  StackingClassifier, StackingRegressor)\n",
    "from sklearn.linear_model import LinearRegression, LogisticRegression, ElasticNet, Lasso, Ridge\n",
    "from sklearn.neighbors import KNeighborsClassifier, KNeighborsRegressor\n",
    "from sklearn.svm import SVC, SVR\n",
    "from sklearn.multiclass import OneVsRestClassifier\n",
    "from sklearn.cluster import KMeans\n",
    "from sklearn.naive_bayes import GaussianNB\n",
    "from mlxtend.frequent_patterns import apriori, association_rules\n",
    "from xgboost import XGBClassifier, XGBRegressor\n",
    "\n",
    "# Neural Network Libraries\n",
    "import torch\n",
    "from torch import nn as nn\n",
    "from torch.nn import functional as F\n",
    "from torch.utils.data import DataLoader, Dataset, random_split\n",
    "import torchvision\n",
    "from torchvision import datasets, transforms, models\n",
    "from torchvision.transforms import ToTensor\n",
    "import huggingface\n",
    "import keras\n",
    "import tensorflow\n",
    "from transformers import pipeline\n",
    "\n",
    "# Feature Engineering\n",
    "from sklearn.preprocessing import (StandardScaler, RobustScaler, MinMaxScaler, MaxAbsScaler, Normalizer, \n",
    "\t\t\t\t\t\t\t\t   LabelEncoder, OneHotEncoder, OrdinalEncoder, LabelBinarizer)\n",
    "from sklearn.feature_selection import SelectKBest, chi2, f_classif, mutual_info_classif, RFE, SequentialFeatureSelector, VarianceThreshold\n",
    "from sklearn.compose import ColumnTransformer\n",
    "from sklearn.pipeline import Pipeline\n",
    "#from sklearn.impute import SimpleImputer\n",
    "from mlxtend.preprocessing import TransactionEncoder\n",
    "from hyperopt import hp, tpe, fmin, Trials\n",
    "\n",
    "# Dimensionality Reduction\n",
    "from sklearn.decomposition import PCA, KernelPCA\n",
    "from sklearn.discriminant_analysis import LinearDiscriminantAnalysis as LDA\n",
    "from sklearn.manifold import TSNE\n",
    "\n",
    "# Time-Series Analysis\n",
    "from statsmodels.tsa.seasonal import STL, seasonal_decompose\n",
    "from statsmodels.tsa.stattools import adfuller\n",
    "from statsmodels.tsa.arima.model import ARIMA\n",
    "from statsmodels.tsa.statespace.sarimax import SARIMAX\n",
    "\n",
    "# Evaluation\n",
    "from sklearn.metrics import (classification_report, pairwise_distances, silhouette_score, \n",
    "\t\t\t\t\t\t\t roc_curve, auc, roc_auc_score, RocCurveDisplay, \n",
    "\t\t\t\t\t\t\t confusion_matrix, ConfusionMatrixDisplay, \n",
    "\t\t\t\t\t\t\t accuracy_score, recall_score, precision_score, f1_score,\n",
    "\t\t\t\t\t\t\t log_loss, hinge_loss, mean_absolute_error, mean_squared_error, r2_score)\n",
    "from torchmetrics import Accuracy, Precision, Recall, F1Score, AUROC, ConfusionMatrix, MeanSquaredError, MeanAbsoluteError, R2Score, MetricCollection\n",
    "import statsmodels.api as sm \n",
    "from statsmodels.stats.outliers_influence import variance_inflation_factor\n"
   ]
  },
  {
   "cell_type": "code",
   "execution_count": 9,
   "metadata": {},
   "outputs": [],
   "source": [
    "# Load data\n",
    "df_merged = pd.read_csv('data/merged_data.csv')\n",
    "df_merged = df_merged.drop(columns=['Date'])"
   ]
  },
  {
   "cell_type": "code",
   "execution_count": 10,
   "metadata": {},
   "outputs": [],
   "source": [
    "# Data split for features and target\n",
    "X = df_merged.drop(columns=['Avg Power Consumption per Household (kWh)', 'Year', 'Month', 'Location'])\n",
    "y = df_merged['Avg Power Consumption per Household (kWh)']"
   ]
  },
  {
   "cell_type": "code",
   "execution_count": 11,
   "metadata": {},
   "outputs": [],
   "source": [
    "# Grab column names of each data type\n",
    "numerical_cols = X.select_dtypes(include=['number']).columns\n",
    "categorical_cols = X.select_dtypes(include=['object', 'category']).columns\n",
    "datetime_cols = X.select_dtypes(include=['datetime']).columns\n",
    "target_col = y.name"
   ]
  },
  {
   "cell_type": "code",
   "execution_count": 7,
   "metadata": {},
   "outputs": [],
   "source": [
    "# Data split for train and test set\n",
    "X_train, X_test, y_train, y_test = train_test_split(X, y, test_size=0.2, random_state=42)\n",
    "\n",
    "# Location label encoding\n",
    "label_encoder = LabelEncoder()\n",
    "for col in categorical_cols:\n",
    "    X_train[col] = label_encoder.fit_transform(X_train[col])\n",
    "    X_test[col] = label_encoder.transform(X_test[col])\n",
    "    \n",
    "# Scaling\n",
    "scaler=StandardScaler()\n",
    "X_train[numerical_cols]=scaler.fit_transform(X_train[numerical_cols])\n",
    "X_test[numerical_cols]=scaler.transform(X_test[numerical_cols])\n"
   ]
  },
  {
   "cell_type": "code",
   "execution_count": 8,
   "metadata": {},
   "outputs": [
    {
     "data": {
      "application/vnd.microsoft.datawrangler.viewer.v0+json": {
       "columns": [
        {
         "name": "index",
         "rawType": "int64",
         "type": "integer"
        },
        {
         "name": "feature",
         "rawType": "object",
         "type": "string"
        },
        {
         "name": "VIF",
         "rawType": "float64",
         "type": "float"
        }
       ],
       "conversionMethod": "pd.DataFrame",
       "ref": "3e2ed03a-cdfa-456e-b079-7a732ac0d944",
       "rows": [
        [
         "0",
         "Date",
         "9.178666703429657"
        ],
        [
         "1",
         "Year",
         "3.8538449905661514"
        ],
        [
         "2",
         "Month",
         "2.440046910190136"
        ],
        [
         "3",
         "Location",
         "2.5126950577933584"
        ],
        [
         "4",
         "Number of Households",
         "2.166487786590358"
        ],
        [
         "5",
         "Avg Electricity Btill per Household (KRW)",
         "1.6101030680736312"
        ],
        [
         "6",
         "Number of Tropical Nights",
         "5.334869097770986"
        ],
        [
         "7",
         "Number of Heatwave Days",
         "3.9822242362377542"
        ],
        [
         "8",
         "Number of Coldwave Days",
         "1.4531396080094614"
        ],
        [
         "9",
         "Avg Temperature (Celsius)",
         "5873.409222825092"
        ],
        [
         "10",
         "Avg Max Temperature (Celsius)",
         "1353.616750692326"
        ],
        [
         "11",
         "Avg Min Temperature (Celsius)",
         "1403.642818294662"
        ],
        [
         "12",
         "Avg Local Pressure (hPa)",
         "52.00556109717671"
        ],
        [
         "13",
         "Avg Sea Level Pressure (hPa)",
         "71.80588339274819"
        ],
        [
         "14",
         "Avg Vapor Pressure (hPa)",
         "67.49136448988708"
        ],
        [
         "15",
         "Avg Dew Point Temp (Celsius)",
         "2213.387377755545"
        ],
        [
         "16",
         "Avg Relative Humidity (%)",
         "160.86573529535625"
        ],
        [
         "17",
         "Monthly Precipitation (mm)",
         "2.7755241427757844"
        ],
        [
         "18",
         "Small Pan Evaporation (mm)",
         "8.26231545217263"
        ],
        [
         "19",
         "Avg Wind Speed (m/s)",
         "4.563205276599059"
        ],
        [
         "20",
         "Max Wind Speed (m/s)",
         "2.7584004800530235"
        ],
        [
         "21",
         "Avg Cloud Cover (1/10)",
         "11.803072627227131"
        ],
        [
         "22",
         "Total Sunshine Hours (hr)",
         "29.329979536507512"
        ],
        [
         "23",
         "Sunshine Rate (%)",
         "44.08220431627203"
        ],
        [
         "24",
         "Total Solar Radiation (MJ/m^2)",
         "10.007727614958343"
        ],
        [
         "25",
         "Avg Min Surface Temp (Celsius)",
         "171.38737019252568"
        ],
        [
         "26",
         "Avg Ground Temp (Celsius)",
         "140.6289918413541"
        ]
       ],
       "shape": {
        "columns": 2,
        "rows": 27
       }
      },
      "text/html": [
       "<div>\n",
       "<style scoped>\n",
       "    .dataframe tbody tr th:only-of-type {\n",
       "        vertical-align: middle;\n",
       "    }\n",
       "\n",
       "    .dataframe tbody tr th {\n",
       "        vertical-align: top;\n",
       "    }\n",
       "\n",
       "    .dataframe thead th {\n",
       "        text-align: right;\n",
       "    }\n",
       "</style>\n",
       "<table border=\"1\" class=\"dataframe\">\n",
       "  <thead>\n",
       "    <tr style=\"text-align: right;\">\n",
       "      <th></th>\n",
       "      <th>feature</th>\n",
       "      <th>VIF</th>\n",
       "    </tr>\n",
       "  </thead>\n",
       "  <tbody>\n",
       "    <tr>\n",
       "      <th>0</th>\n",
       "      <td>Date</td>\n",
       "      <td>9.178667</td>\n",
       "    </tr>\n",
       "    <tr>\n",
       "      <th>1</th>\n",
       "      <td>Year</td>\n",
       "      <td>3.853845</td>\n",
       "    </tr>\n",
       "    <tr>\n",
       "      <th>2</th>\n",
       "      <td>Month</td>\n",
       "      <td>2.440047</td>\n",
       "    </tr>\n",
       "    <tr>\n",
       "      <th>3</th>\n",
       "      <td>Location</td>\n",
       "      <td>2.512695</td>\n",
       "    </tr>\n",
       "    <tr>\n",
       "      <th>4</th>\n",
       "      <td>Number of Households</td>\n",
       "      <td>2.166488</td>\n",
       "    </tr>\n",
       "    <tr>\n",
       "      <th>5</th>\n",
       "      <td>Avg Electricity Btill per Household (KRW)</td>\n",
       "      <td>1.610103</td>\n",
       "    </tr>\n",
       "    <tr>\n",
       "      <th>6</th>\n",
       "      <td>Number of Tropical Nights</td>\n",
       "      <td>5.334869</td>\n",
       "    </tr>\n",
       "    <tr>\n",
       "      <th>7</th>\n",
       "      <td>Number of Heatwave Days</td>\n",
       "      <td>3.982224</td>\n",
       "    </tr>\n",
       "    <tr>\n",
       "      <th>8</th>\n",
       "      <td>Number of Coldwave Days</td>\n",
       "      <td>1.453140</td>\n",
       "    </tr>\n",
       "    <tr>\n",
       "      <th>9</th>\n",
       "      <td>Avg Temperature (Celsius)</td>\n",
       "      <td>5873.409223</td>\n",
       "    </tr>\n",
       "    <tr>\n",
       "      <th>10</th>\n",
       "      <td>Avg Max Temperature (Celsius)</td>\n",
       "      <td>1353.616751</td>\n",
       "    </tr>\n",
       "    <tr>\n",
       "      <th>11</th>\n",
       "      <td>Avg Min Temperature (Celsius)</td>\n",
       "      <td>1403.642818</td>\n",
       "    </tr>\n",
       "    <tr>\n",
       "      <th>12</th>\n",
       "      <td>Avg Local Pressure (hPa)</td>\n",
       "      <td>52.005561</td>\n",
       "    </tr>\n",
       "    <tr>\n",
       "      <th>13</th>\n",
       "      <td>Avg Sea Level Pressure (hPa)</td>\n",
       "      <td>71.805883</td>\n",
       "    </tr>\n",
       "    <tr>\n",
       "      <th>14</th>\n",
       "      <td>Avg Vapor Pressure (hPa)</td>\n",
       "      <td>67.491364</td>\n",
       "    </tr>\n",
       "    <tr>\n",
       "      <th>15</th>\n",
       "      <td>Avg Dew Point Temp (Celsius)</td>\n",
       "      <td>2213.387378</td>\n",
       "    </tr>\n",
       "    <tr>\n",
       "      <th>16</th>\n",
       "      <td>Avg Relative Humidity (%)</td>\n",
       "      <td>160.865735</td>\n",
       "    </tr>\n",
       "    <tr>\n",
       "      <th>17</th>\n",
       "      <td>Monthly Precipitation (mm)</td>\n",
       "      <td>2.775524</td>\n",
       "    </tr>\n",
       "    <tr>\n",
       "      <th>18</th>\n",
       "      <td>Small Pan Evaporation (mm)</td>\n",
       "      <td>8.262315</td>\n",
       "    </tr>\n",
       "    <tr>\n",
       "      <th>19</th>\n",
       "      <td>Avg Wind Speed (m/s)</td>\n",
       "      <td>4.563205</td>\n",
       "    </tr>\n",
       "    <tr>\n",
       "      <th>20</th>\n",
       "      <td>Max Wind Speed (m/s)</td>\n",
       "      <td>2.758400</td>\n",
       "    </tr>\n",
       "    <tr>\n",
       "      <th>21</th>\n",
       "      <td>Avg Cloud Cover (1/10)</td>\n",
       "      <td>11.803073</td>\n",
       "    </tr>\n",
       "    <tr>\n",
       "      <th>22</th>\n",
       "      <td>Total Sunshine Hours (hr)</td>\n",
       "      <td>29.329980</td>\n",
       "    </tr>\n",
       "    <tr>\n",
       "      <th>23</th>\n",
       "      <td>Sunshine Rate (%)</td>\n",
       "      <td>44.082204</td>\n",
       "    </tr>\n",
       "    <tr>\n",
       "      <th>24</th>\n",
       "      <td>Total Solar Radiation (MJ/m^2)</td>\n",
       "      <td>10.007728</td>\n",
       "    </tr>\n",
       "    <tr>\n",
       "      <th>25</th>\n",
       "      <td>Avg Min Surface Temp (Celsius)</td>\n",
       "      <td>171.387370</td>\n",
       "    </tr>\n",
       "    <tr>\n",
       "      <th>26</th>\n",
       "      <td>Avg Ground Temp (Celsius)</td>\n",
       "      <td>140.628992</td>\n",
       "    </tr>\n",
       "  </tbody>\n",
       "</table>\n",
       "</div>"
      ],
      "text/plain": [
       "                                      feature          VIF\n",
       "0                                        Date     9.178667\n",
       "1                                        Year     3.853845\n",
       "2                                       Month     2.440047\n",
       "3                                    Location     2.512695\n",
       "4                        Number of Households     2.166488\n",
       "5   Avg Electricity Btill per Household (KRW)     1.610103\n",
       "6                   Number of Tropical Nights     5.334869\n",
       "7                     Number of Heatwave Days     3.982224\n",
       "8                     Number of Coldwave Days     1.453140\n",
       "9                   Avg Temperature (Celsius)  5873.409223\n",
       "10              Avg Max Temperature (Celsius)  1353.616751\n",
       "11              Avg Min Temperature (Celsius)  1403.642818\n",
       "12                   Avg Local Pressure (hPa)    52.005561\n",
       "13               Avg Sea Level Pressure (hPa)    71.805883\n",
       "14                   Avg Vapor Pressure (hPa)    67.491364\n",
       "15               Avg Dew Point Temp (Celsius)  2213.387378\n",
       "16                  Avg Relative Humidity (%)   160.865735\n",
       "17                 Monthly Precipitation (mm)     2.775524\n",
       "18                 Small Pan Evaporation (mm)     8.262315\n",
       "19                       Avg Wind Speed (m/s)     4.563205\n",
       "20                       Max Wind Speed (m/s)     2.758400\n",
       "21                     Avg Cloud Cover (1/10)    11.803073\n",
       "22                  Total Sunshine Hours (hr)    29.329980\n",
       "23                          Sunshine Rate (%)    44.082204\n",
       "24             Total Solar Radiation (MJ/m^2)    10.007728\n",
       "25             Avg Min Surface Temp (Celsius)   171.387370\n",
       "26                  Avg Ground Temp (Celsius)   140.628992"
      ]
     },
     "execution_count": 8,
     "metadata": {},
     "output_type": "execute_result"
    }
   ],
   "source": [
    "# Check multicolinearity using VIF on training data\n",
    "df_vif = pd.DataFrame()\n",
    "df_vif['feature'] = X_train.columns\n",
    "df_vif['VIF'] = [variance_inflation_factor(X_train, i) for i in range(X_train.shape[1])]\n",
    "df_vif"
   ]
  },
  {
   "cell_type": "code",
   "execution_count": null,
   "metadata": {},
   "outputs": [],
   "source": [
    "# Drop columns w/ high VIF\n",
    "X_train_vif = X_train.drop(columns=['Year', 'Month', 'Location', 'Avg Max Temperature (Celsius)', 'Avg Min Temperature (Celsius)', 'Avg Sea Level Pressure (hPa)', 'Avg Vapor Pressure (hPa)', 'Avg Dew Point Temp (Celsius)', 'Max Wind Speed (m/s)', 'Total Sunshine Hours (hr)', 'Total Solar Radiation (MJ/m^2)', 'Avg Min Surface Temp (Celsius)', 'Avg Ground Temp (Celsius)'])\n",
    "X_test_vif = X_test.drop(columns=['Year', 'Month', 'Location', 'Avg Max Temperature (Celsius)', 'Avg Min Temperature (Celsius)', 'Avg Sea Level Pressure (hPa)', 'Avg Vapor Pressure (hPa)', 'Avg Dew Point Temp (Celsius)', 'Max Wind Speed (m/s)', 'Total Sunshine Hours (hr)', 'Total Solar Radiation (MJ/m^2)', 'Avg Min Surface Temp (Celsius)', 'Avg Ground Temp (Celsius)'])\n",
    "\n",
    "# Re-check multicolinearity\n",
    "df_vif_removed = pd.DataFrame()\n",
    "df_vif_removed['feature'] = X_train_vif.columns\n",
    "df_vif_removed['VIF'] = [variance_inflation_factor(X_train_vif, i) for i in range(X_train_vif.shape[1])]\n",
    "df_vif_removed"
   ]
  }
 ],
 "metadata": {
  "kernelspec": {
   "display_name": "venv_3.11",
   "language": "python",
   "name": "python3"
  },
  "language_info": {
   "codemirror_mode": {
    "name": "ipython",
    "version": 3
   },
   "file_extension": ".py",
   "mimetype": "text/x-python",
   "name": "python",
   "nbconvert_exporter": "python",
   "pygments_lexer": "ipython3",
   "version": "3.11.11"
  }
 },
 "nbformat": 4,
 "nbformat_minor": 2
}
