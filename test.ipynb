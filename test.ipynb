{
 "cells": [
  {
   "cell_type": "code",
   "execution_count": 185,
   "metadata": {},
   "outputs": [],
   "source": [
    "# Library\n",
    "# Time\n",
    "from timeit import default_timer as timer\n",
    "import time\n",
    "from tqdm.auto import tqdm\n",
    "\n",
    "# File\n",
    "import os\n",
    "import requests\n",
    "import zipfile\n",
    "from pathlib import Path\n",
    "from PIL import Image\n",
    "import random\n",
    "import chardet\n",
    "\n",
    "# Numerical & Data Handling\n",
    "import numpy as np\n",
    "import pandas as pd\n",
    "import scipy as sp\n",
    "import math\n",
    "\n",
    "# Visualization\n",
    "import seaborn as sns\n",
    "from matplotlib import pyplot as plt\n",
    "from matplotlib.lines import Line2D\n",
    "%matplotlib inline\n",
    "from sklearn.tree import plot_tree\n",
    "from scipy.optimize import curve_fit\n",
    "\n",
    "# Machine Learning Libraries\n",
    "from sklearn.datasets import make_classification\n",
    "from sklearn.model_selection import train_test_split, GridSearchCV, RandomizedSearchCV, cross_val_score\n",
    "from sklearn.tree import DecisionTreeClassifier,DecisionTreeRegressor\n",
    "from sklearn.ensemble import (RandomForestClassifier, RandomForestRegressor, \n",
    "\t\t\t\t\t\t\t  ExtraTreesClassifier, ExtraTreesRegressor, \n",
    "\t\t\t\t\t\t\t  BaggingClassifier, BaggingRegressor, \n",
    "\t\t\t\t\t\t\t  GradientBoostingClassifier, GradientBoostingRegressor, \n",
    "\t\t\t\t\t\t\t  AdaBoostClassifier, AdaBoostRegressor, \n",
    "\t\t\t\t\t\t\t  VotingClassifier, VotingRegressor,\n",
    "\t\t\t\t\t\t\t  StackingClassifier, StackingRegressor)\n",
    "from sklearn.linear_model import LinearRegression, LogisticRegression, ElasticNet, Lasso, Ridge\n",
    "from sklearn.neighbors import KNeighborsClassifier, KNeighborsRegressor\n",
    "from sklearn.svm import SVC, SVR\n",
    "from sklearn.multiclass import OneVsRestClassifier\n",
    "from sklearn.cluster import KMeans\n",
    "from sklearn.naive_bayes import GaussianNB\n",
    "from mlxtend.frequent_patterns import apriori, association_rules\n",
    "from xgboost import XGBClassifier, XGBRegressor\n",
    "\n",
    "# Neural Network Libraries\n",
    "import torch\n",
    "from torch import nn as nn\n",
    "from torch.nn import functional as F\n",
    "from torch.utils.data import DataLoader, Dataset, random_split\n",
    "import torchvision\n",
    "from torchvision import datasets, transforms, models\n",
    "from torchvision.transforms import ToTensor\n",
    "import huggingface\n",
    "import keras\n",
    "import tensorflow\n",
    "from transformers import pipeline\n",
    "\n",
    "# Feature Engineering\n",
    "from sklearn.preprocessing import (StandardScaler, RobustScaler, MinMaxScaler, MaxAbsScaler, Normalizer, \n",
    "\t\t\t\t\t\t\t\t   LabelEncoder, OneHotEncoder, OrdinalEncoder, LabelBinarizer)\n",
    "from sklearn.feature_selection import SelectKBest, chi2, f_classif, mutual_info_classif, RFE, SequentialFeatureSelector, VarianceThreshold\n",
    "from sklearn.compose import ColumnTransformer\n",
    "from sklearn.pipeline import Pipeline\n",
    "#from sklearn.impute import SimpleImputer\n",
    "from mlxtend.preprocessing import TransactionEncoder\n",
    "from hyperopt import hp, tpe, fmin, Trials\n",
    "\n",
    "# Dimensionality Reduction\n",
    "from sklearn.decomposition import PCA, KernelPCA\n",
    "from sklearn.discriminant_analysis import LinearDiscriminantAnalysis as LDA\n",
    "from sklearn.manifold import TSNE\n",
    "\n",
    "# Time-Series Analysis\n",
    "from statsmodels.tsa.seasonal import STL, seasonal_decompose\n",
    "from statsmodels.tsa.stattools import adfuller\n",
    "from statsmodels.tsa.arima.model import ARIMA\n",
    "from statsmodels.tsa.statespace.sarimax import SARIMAX\n",
    "\n",
    "# Evaluation\n",
    "from sklearn.metrics import (classification_report, pairwise_distances, silhouette_score, \n",
    "\t\t\t\t\t\t\t roc_curve, auc, roc_auc_score, RocCurveDisplay, \n",
    "\t\t\t\t\t\t\t confusion_matrix, ConfusionMatrixDisplay, \n",
    "\t\t\t\t\t\t\t accuracy_score, recall_score, precision_score, f1_score,\n",
    "\t\t\t\t\t\t\t log_loss, hinge_loss, mean_absolute_error, mean_squared_error, r2_score)\n",
    "from torchmetrics import Accuracy, Precision, Recall, F1Score, AUROC, ConfusionMatrix, MeanSquaredError, MeanAbsoluteError, R2Score, MetricCollection\n",
    "import statsmodels.api as sm \n",
    "from statsmodels.stats.outliers_influence import variance_inflation_factor\n"
   ]
  },
  {
   "cell_type": "code",
   "execution_count": 190,
   "metadata": {},
   "outputs": [],
   "source": [
    "# Data split for train and test set\n",
    "X_train, X_test, y_train, y_test = train_test_split(X, y, test_size=0.2, random_state=42)\n",
    "\n",
    "# Location label encoding\n",
    "label_encoder = LabelEncoder()\n",
    "for col in categorical_cols:\n",
    "    X_train[col] = label_encoder.fit_transform(X_train[col])\n",
    "    X_test[col] = label_encoder.transform(X_test[col])\n",
    "    \n",
    "# Scaling\n",
    "scaler=StandardScaler()\n",
    "X_train[numerical_cols]=scaler.fit_transform(X_train[numerical_cols])\n",
    "X_test[numerical_cols]=scaler.transform(X_test[numerical_cols])\n"
   ]
  },
  {
   "cell_type": "code",
   "execution_count": 192,
   "metadata": {},
   "outputs": [
    {
     "data": {
      "application/vnd.microsoft.datawrangler.viewer.v0+json": {
       "columns": [
        {
         "name": "index",
         "rawType": "int64",
         "type": "integer"
        },
        {
         "name": "feature",
         "rawType": "object",
         "type": "string"
        },
        {
         "name": "VIF",
         "rawType": "float64",
         "type": "float"
        }
       ],
       "conversionMethod": "pd.DataFrame",
       "ref": "3f75174b-2b2c-49b1-965c-ad1e9149354e",
       "rows": [
        [
         "0",
         "Number of Households",
         "1.839736720432826"
        ],
        [
         "1",
         "Avg Electricity Btill per Household (KRW)",
         "1.4407777574113432"
        ],
        [
         "2",
         "Number of Tropical Nights",
         "5.066624107514264"
        ],
        [
         "3",
         "Number of Heatwave Days",
         "3.670118420619241"
        ],
        [
         "4",
         "Number of Coldwave Days",
         "1.4249296270022858"
        ],
        [
         "5",
         "Avg Max Temperature (Celsius)",
         "139.31691935895816"
        ],
        [
         "6",
         "Avg Min Temperature (Celsius)",
         "164.70092724020458"
        ],
        [
         "7",
         "Avg Local Pressure (hPa)",
         "42.14432543372795"
        ],
        [
         "8",
         "Avg Sea Level Pressure (hPa)",
         "63.33690432304779"
        ],
        [
         "9",
         "Avg Vapor Pressure (hPa)",
         "61.8163375307209"
        ],
        [
         "10",
         "Avg Relative Humidity (%)",
         "8.172079344876577"
        ],
        [
         "11",
         "Monthly Precipitation (mm)",
         "2.6661178875716773"
        ],
        [
         "12",
         "Small Pan Evaporation (mm)",
         "7.326924918195101"
        ],
        [
         "13",
         "Avg Wind Speed (m/s)",
         "4.083559440392511"
        ],
        [
         "14",
         "Max Wind Speed (m/s)",
         "2.5119098664735486"
        ],
        [
         "15",
         "Avg Cloud Cover (1/10)",
         "10.506061699129212"
        ],
        [
         "16",
         "Total Sunshine Hours (hr)",
         "24.303418953691317"
        ],
        [
         "17",
         "Sunshine Rate (%)",
         "38.398185869838464"
        ],
        [
         "18",
         "Total Solar Radiation (MJ/m^2)",
         "8.550642665610319"
        ],
        [
         "19",
         "Avg Ground Temp (Celsius)",
         "118.54821030917066"
        ]
       ],
       "shape": {
        "columns": 2,
        "rows": 20
       }
      },
      "text/html": [
       "<div>\n",
       "<style scoped>\n",
       "    .dataframe tbody tr th:only-of-type {\n",
       "        vertical-align: middle;\n",
       "    }\n",
       "\n",
       "    .dataframe tbody tr th {\n",
       "        vertical-align: top;\n",
       "    }\n",
       "\n",
       "    .dataframe thead th {\n",
       "        text-align: right;\n",
       "    }\n",
       "</style>\n",
       "<table border=\"1\" class=\"dataframe\">\n",
       "  <thead>\n",
       "    <tr style=\"text-align: right;\">\n",
       "      <th></th>\n",
       "      <th>feature</th>\n",
       "      <th>VIF</th>\n",
       "    </tr>\n",
       "  </thead>\n",
       "  <tbody>\n",
       "    <tr>\n",
       "      <th>0</th>\n",
       "      <td>Number of Households</td>\n",
       "      <td>1.839737</td>\n",
       "    </tr>\n",
       "    <tr>\n",
       "      <th>1</th>\n",
       "      <td>Avg Electricity Btill per Household (KRW)</td>\n",
       "      <td>1.440778</td>\n",
       "    </tr>\n",
       "    <tr>\n",
       "      <th>2</th>\n",
       "      <td>Number of Tropical Nights</td>\n",
       "      <td>5.066624</td>\n",
       "    </tr>\n",
       "    <tr>\n",
       "      <th>3</th>\n",
       "      <td>Number of Heatwave Days</td>\n",
       "      <td>3.670118</td>\n",
       "    </tr>\n",
       "    <tr>\n",
       "      <th>4</th>\n",
       "      <td>Number of Coldwave Days</td>\n",
       "      <td>1.424930</td>\n",
       "    </tr>\n",
       "    <tr>\n",
       "      <th>5</th>\n",
       "      <td>Avg Max Temperature (Celsius)</td>\n",
       "      <td>139.316919</td>\n",
       "    </tr>\n",
       "    <tr>\n",
       "      <th>6</th>\n",
       "      <td>Avg Min Temperature (Celsius)</td>\n",
       "      <td>164.700927</td>\n",
       "    </tr>\n",
       "    <tr>\n",
       "      <th>7</th>\n",
       "      <td>Avg Local Pressure (hPa)</td>\n",
       "      <td>42.144325</td>\n",
       "    </tr>\n",
       "    <tr>\n",
       "      <th>8</th>\n",
       "      <td>Avg Sea Level Pressure (hPa)</td>\n",
       "      <td>63.336904</td>\n",
       "    </tr>\n",
       "    <tr>\n",
       "      <th>9</th>\n",
       "      <td>Avg Vapor Pressure (hPa)</td>\n",
       "      <td>61.816338</td>\n",
       "    </tr>\n",
       "    <tr>\n",
       "      <th>10</th>\n",
       "      <td>Avg Relative Humidity (%)</td>\n",
       "      <td>8.172079</td>\n",
       "    </tr>\n",
       "    <tr>\n",
       "      <th>11</th>\n",
       "      <td>Monthly Precipitation (mm)</td>\n",
       "      <td>2.666118</td>\n",
       "    </tr>\n",
       "    <tr>\n",
       "      <th>12</th>\n",
       "      <td>Small Pan Evaporation (mm)</td>\n",
       "      <td>7.326925</td>\n",
       "    </tr>\n",
       "    <tr>\n",
       "      <th>13</th>\n",
       "      <td>Avg Wind Speed (m/s)</td>\n",
       "      <td>4.083559</td>\n",
       "    </tr>\n",
       "    <tr>\n",
       "      <th>14</th>\n",
       "      <td>Max Wind Speed (m/s)</td>\n",
       "      <td>2.511910</td>\n",
       "    </tr>\n",
       "    <tr>\n",
       "      <th>15</th>\n",
       "      <td>Avg Cloud Cover (1/10)</td>\n",
       "      <td>10.506062</td>\n",
       "    </tr>\n",
       "    <tr>\n",
       "      <th>16</th>\n",
       "      <td>Total Sunshine Hours (hr)</td>\n",
       "      <td>24.303419</td>\n",
       "    </tr>\n",
       "    <tr>\n",
       "      <th>17</th>\n",
       "      <td>Sunshine Rate (%)</td>\n",
       "      <td>38.398186</td>\n",
       "    </tr>\n",
       "    <tr>\n",
       "      <th>18</th>\n",
       "      <td>Total Solar Radiation (MJ/m^2)</td>\n",
       "      <td>8.550643</td>\n",
       "    </tr>\n",
       "    <tr>\n",
       "      <th>19</th>\n",
       "      <td>Avg Ground Temp (Celsius)</td>\n",
       "      <td>118.548210</td>\n",
       "    </tr>\n",
       "  </tbody>\n",
       "</table>\n",
       "</div>"
      ],
      "text/plain": [
       "                                      feature         VIF\n",
       "0                        Number of Households    1.839737\n",
       "1   Avg Electricity Btill per Household (KRW)    1.440778\n",
       "2                   Number of Tropical Nights    5.066624\n",
       "3                     Number of Heatwave Days    3.670118\n",
       "4                     Number of Coldwave Days    1.424930\n",
       "5               Avg Max Temperature (Celsius)  139.316919\n",
       "6               Avg Min Temperature (Celsius)  164.700927\n",
       "7                    Avg Local Pressure (hPa)   42.144325\n",
       "8                Avg Sea Level Pressure (hPa)   63.336904\n",
       "9                    Avg Vapor Pressure (hPa)   61.816338\n",
       "10                  Avg Relative Humidity (%)    8.172079\n",
       "11                 Monthly Precipitation (mm)    2.666118\n",
       "12                 Small Pan Evaporation (mm)    7.326925\n",
       "13                       Avg Wind Speed (m/s)    4.083559\n",
       "14                       Max Wind Speed (m/s)    2.511910\n",
       "15                     Avg Cloud Cover (1/10)   10.506062\n",
       "16                  Total Sunshine Hours (hr)   24.303419\n",
       "17                          Sunshine Rate (%)   38.398186\n",
       "18             Total Solar Radiation (MJ/m^2)    8.550643\n",
       "19                  Avg Ground Temp (Celsius)  118.548210"
      ]
     },
     "execution_count": 192,
     "metadata": {},
     "output_type": "execute_result"
    }
   ],
   "source": [
    "#Drop columns w/ high VIF\n",
    "X_train_vif = X_train.drop(columns=['Avg Temperature (Celsius)', 'Avg Dew Point Temp (Celsius)', 'Avg Min Surface Temp (Celsius)'])\n",
    "X_test_vif = X_test.drop(columns=['Avg Temperature (Celsius)', 'Avg Dew Point Temp (Celsius)', 'Avg Min Surface Temp (Celsius)'])\n",
    "\n",
    "# Re-check multicolinearity\n",
    "df_vif_removed = pd.DataFrame()\n",
    "df_vif_removed['feature'] = X_train_vif.columns\n",
    "df_vif_removed['VIF'] = [variance_inflation_factor(X_train_vif, i) for i in range(X_train_vif.shape[1])]\n",
    "df_vif_removed"
   ]
  },
  {
   "cell_type": "code",
   "execution_count": 198,
   "metadata": {},
   "outputs": [
    {
     "name": "stdout",
     "output_type": "stream",
     "text": [
      "Training time:  0.1942\n",
      "Best alpha: 0.1 | Best l1_ratio: 0.9\n",
      "RMSE of elastic net model: 22.717476397711106\n",
      "MAE of elastic net model: 16.211542238188503\n",
      "R^2 of elastic net model: 0.3262134490500179\n",
      "Adjusted R^2 of elastic net model: 0.21859476382884013\n"
     ]
    }
   ],
   "source": [
    "# Elastic net\n",
    "# Hyperparameter tuning\n",
    "start_time = time.time()\n",
    "param_grid_elastic_net = {'alpha': [0.1, 1, 10],\n",
    "\t\t\t\t\t\t  'l1_ratio': [0.1, 0.5, 0.9]}\n",
    "grid_elastic_net = GridSearchCV(estimator=ElasticNet(), \n",
    "\t\t\t\t\t\t\t\tparam_grid=param_grid_elastic_net, \n",
    "\t\t\t\t\t\t\t\tcv=5)\n",
    "grid_elastic_net.fit(X_train_pca, y_train)\n",
    "end_time = time.time()\n",
    "print(f\"Training time: {end_time - start_time: .4f}\")\n",
    "\n",
    "# Best model\n",
    "elastic_net_best_alpha = grid_elastic_net.best_params_['alpha']\n",
    "elastic_net_best_l1_ratio = grid_elastic_net.best_params_['l1_ratio']\n",
    "elastic_net_best_model = grid_elastic_net.best_estimator_\n",
    "print(f\"Best alpha: {elastic_net_best_alpha} | Best l1_ratio: {elastic_net_best_l1_ratio}\")\n",
    "\n",
    "# Evaluation\n",
    "y_pred_elastic_net = elastic_net_best_model.predict(X_test_pca)\n",
    "rmse_elastic_net = math.sqrt(mean_squared_error(y_true=y_test, y_pred=y_pred_elastic_net))\n",
    "mae_elastic_net = mean_absolute_error(y_true=y_test, y_pred=y_pred_elastic_net)\n",
    "r2_elastic_net = r2_score(y_true=y_test, y_pred=y_pred_elastic_net)\n",
    "adj_r2_elastic_net = adj_r2_score(y_true=y_test, y_pred=y_pred_elastic_net)\n",
    "print(f\"RMSE of elastic net model: {rmse_elastic_net}\")\n",
    "print(f\"MAE of elastic net model: {mae_elastic_net}\")\n",
    "print(f\"R^2 of elastic net model: {r2_elastic_net}\")\n",
    "print(f\"Adjusted R^2 of elastic net model: {adj_r2_elastic_net}\")\n"
   ]
  }
 ],
 "metadata": {
  "kernelspec": {
   "display_name": "venv_3.11",
   "language": "python",
   "name": "python3"
  },
  "language_info": {
   "codemirror_mode": {
    "name": "ipython",
    "version": 3
   },
   "file_extension": ".py",
   "mimetype": "text/x-python",
   "name": "python",
   "nbconvert_exporter": "python",
   "pygments_lexer": "ipython3",
   "version": "3.11.11"
  }
 },
 "nbformat": 4,
 "nbformat_minor": 2
}
